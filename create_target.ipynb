{
 "cells": [
  {
   "cell_type": "raw",
   "id": "07806d2e-a4a7-409a-9650-b05ea4d11ec5",
   "metadata": {},
   "source": [
    "---\n",
    "execute:\n",
    "    echo: false\n",
    "    warning: false\n",
    "    \n",
    "format:\n",
    "    html:\n",
    "        theme: \"theme_ipol.scss\"\n",
    "        self-contained: true\n",
    "        \n",
    "---"
   ]
  },
  {
   "cell_type": "code",
   "execution_count": null,
   "id": "325e2171-f390-4310-962f-d39c49f1f643",
   "metadata": {
    "tags": [
     "parameters"
    ]
   },
   "outputs": [],
   "source": [
    "# This cell contains the parameters. It should have the tag \"parameters\"\n",
    "SRCDIR = \".\"\n",
    "n_scales = 6\n",
    "fine_checker_size = 16\n",
    "coarse_checker_size = 16"
   ]
  },
  {
   "cell_type": "code",
   "execution_count": null,
   "id": "c609cd1d-dd2a-420f-9445-232403a75306",
   "metadata": {},
   "outputs": [],
   "source": [
    "# standard imports\n",
    "import os\n",
    "import sys\n",
    "sys.path.append(SRCDIR)  # Will enable local code imports\n",
    "from IPython.display import display, Markdown, HTML, FileLink\n"
   ]
  },
  {
   "cell_type": "code",
   "execution_count": null,
   "id": "260e6f88-9fd2-4ad1-8e93-095bde8f2d16",
   "metadata": {},
   "outputs": [],
   "source": [
    "# library imports\n",
    "import imageio"
   ]
  },
  {
   "cell_type": "code",
   "execution_count": null,
   "id": "77c8cea8-c4d9-4dd2-b1e6-c789e8b95745",
   "metadata": {},
   "outputs": [],
   "source": [
    "# local code imports\n",
    "from create_target import create_targets, target2img, save_target"
   ]
  },
  {
   "cell_type": "code",
   "execution_count": null,
   "id": "ade1bf43-7557-4a55-9a20-2cd2c081e490",
   "metadata": {},
   "outputs": [],
   "source": [
    "# run the code\n",
    "targets = create_targets(n_scales)"
   ]
  },
  {
   "cell_type": "code",
   "execution_count": null,
   "id": "01d70fed-9c31-4f9c-82c1-aee7843e4117",
   "metadata": {},
   "outputs": [],
   "source": [
    "for i_scale, target in enumerate(targets):\n",
    "    img = target2img(target, fine_checker_size=fine_checker_size, coarse_checker_size=coarse_checker_size)\n",
    "    out = f\"target_scale_{i_scale}\"\n",
    "    out_img = out + \".png\"\n",
    "    out_csv = out + \".csv\"\n",
    "    imageio.imsave(out_img, img)\n",
    "    save_target(out_csv, target)\n",
    "    display(Markdown(f'## Scale {i_scale}'))\n",
    "    display(HTML(f'<img src=\"{out_img}\" width=\"30%\">'))\n",
    "    display(FileLink(out_csv))\n",
    "    "
   ]
  }
 ],
 "metadata": {
  "kernelspec": {
   "display_name": "Python 3 (ipykernel)",
   "language": "python",
   "name": "python3"
  },
  "language_info": {
   "codemirror_mode": {
    "name": "ipython",
    "version": 3
   },
   "file_extension": ".py",
   "mimetype": "text/x-python",
   "name": "python",
   "nbconvert_exporter": "python",
   "pygments_lexer": "ipython3",
   "version": "3.10.4"
  },
  "papermill": {
   "parameters": {
    "s0": 0.5
   }
  }
 },
 "nbformat": 4,
 "nbformat_minor": 5
}
